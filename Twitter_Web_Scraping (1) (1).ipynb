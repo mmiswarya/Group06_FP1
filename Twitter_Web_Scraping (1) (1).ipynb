{
 "cells": [
  {
   "cell_type": "code",
   "execution_count": 28,
   "id": "852fb34d-34b2-4443-8b81-2317b2187437",
   "metadata": {
    "colab": {
     "base_uri": "https://localhost:8080/"
    },
    "id": "852fb34d-34b2-4443-8b81-2317b2187437",
    "outputId": "15326ba9-52b9-4d81-f3a4-9dc0c10931ad"
   },
   "outputs": [
    {
     "name": "stdout",
     "output_type": "stream",
     "text": [
      "Requirement already satisfied: ntscraper in c:\\anaconda\\lib\\site-packages (0.3.9)\n",
      "Requirement already satisfied: requests in c:\\anaconda\\lib\\site-packages (from ntscraper) (2.31.0)\n",
      "Requirement already satisfied: lxml in c:\\anaconda\\lib\\site-packages (from ntscraper) (4.9.1)\n",
      "Requirement already satisfied: beautifulsoup4 in c:\\anaconda\\lib\\site-packages (from ntscraper) (4.11.1)\n",
      "Requirement already satisfied: soupsieve>1.2 in c:\\anaconda\\lib\\site-packages (from beautifulsoup4->ntscraper) (2.3.2.post1)\n",
      "Requirement already satisfied: idna<4,>=2.5 in c:\\anaconda\\lib\\site-packages (from requests->ntscraper) (3.4)\n",
      "Requirement already satisfied: certifi>=2017.4.17 in c:\\anaconda\\lib\\site-packages (from requests->ntscraper) (2023.5.7)\n",
      "Requirement already satisfied: charset-normalizer<4,>=2 in c:\\anaconda\\lib\\site-packages (from requests->ntscraper) (2.0.4)\n",
      "Requirement already satisfied: urllib3<3,>=1.21.1 in c:\\anaconda\\lib\\site-packages (from requests->ntscraper) (1.26.14)\n"
     ]
    }
   ],
   "source": [
    "!pip install ntscraper"
   ]
  },
  {
   "cell_type": "code",
   "execution_count": 29,
   "id": "p7Cm3I7N4II8",
   "metadata": {
    "id": "p7Cm3I7N4II8"
   },
   "outputs": [],
   "source": [
    "import pandas as pd\n",
    "from ntscraper import Nitter"
   ]
  },
  {
   "cell_type": "code",
   "execution_count": 30,
   "id": "222ad4db-1475-4fd5-89f0-e88c815d3e70",
   "metadata": {
    "colab": {
     "base_uri": "https://localhost:8080/"
    },
    "id": "222ad4db-1475-4fd5-89f0-e88c815d3e70",
    "outputId": "e678b740-fa03-40da-ca13-3e6e48ebe568"
   },
   "outputs": [
    {
     "name": "stderr",
     "output_type": "stream",
     "text": [
      "Testing instances: 100%|██████████| 30/30 [01:18<00:00,  2.62s/it]\n"
     ]
    }
   ],
   "source": [
    "scraper = Nitter(0)"
   ]
  },
  {
   "cell_type": "code",
   "execution_count": 35,
   "id": "62452a25-64b6-42c9-b1b9-36674fb29a26",
   "metadata": {
    "id": "62452a25-64b6-42c9-b1b9-36674fb29a26"
   },
   "outputs": [
    {
     "name": "stdout",
     "output_type": "stream",
     "text": [
      "12-Jan-24 11:56:28 - Empty page on https://nitter.privacydev.net\n"
     ]
    }
   ],
   "source": [
    "# tweets = scraper.get_tweets(\"india\", mode = 'hashtag', number=10)\n",
    "tweets = scraper.get_tweets(\"reliance industries\", mode = 'term', since= '2024-01-10',until= '2024-01-11', number=500)"
   ]
  },
  {
   "cell_type": "code",
   "execution_count": 32,
   "id": "dUrBD1Zo5AeW",
   "metadata": {
    "colab": {
     "base_uri": "https://localhost:8080/"
    },
    "id": "dUrBD1Zo5AeW",
    "outputId": "b86507c9-a0f1-4482-e0d3-bed1082f8c28"
   },
   "outputs": [
    {
     "ename": "IndexError",
     "evalue": "list index out of range",
     "output_type": "error",
     "traceback": [
      "\u001b[1;31m---------------------------------------------------------------------------\u001b[0m",
      "\u001b[1;31mIndexError\u001b[0m                                Traceback (most recent call last)",
      "Cell \u001b[1;32mIn[32], line 1\u001b[0m\n\u001b[1;32m----> 1\u001b[0m \u001b[43mtweets\u001b[49m\u001b[43m[\u001b[49m\u001b[38;5;124;43m'\u001b[39;49m\u001b[38;5;124;43mtweets\u001b[39;49m\u001b[38;5;124;43m'\u001b[39;49m\u001b[43m]\u001b[49m\u001b[43m[\u001b[49m\u001b[38;5;241;43m3\u001b[39;49m\u001b[43m]\u001b[49m\n",
      "\u001b[1;31mIndexError\u001b[0m: list index out of range"
     ]
    }
   ],
   "source": [
    "tweets['tweets'][3]"
   ]
  },
  {
   "cell_type": "code",
   "execution_count": 25,
   "id": "78abb7aa-1dee-4891-ae92-5857dcb0ce31",
   "metadata": {
    "id": "78abb7aa-1dee-4891-ae92-5857dcb0ce31"
   },
   "outputs": [],
   "source": [
    "final_tweets = []\n",
    "for x in tweets['tweets']:\n",
    "    data = [x['link'], x['text'],x['date'],x['stats']['likes'],x['stats']['comments'], x['user']['username']]\n",
    "    final_tweets.append(data)"
   ]
  },
  {
   "cell_type": "code",
   "execution_count": 26,
   "id": "247e9f5d-fdc2-484e-bdd7-ea7db3badb36",
   "metadata": {
    "id": "247e9f5d-fdc2-484e-bdd7-ea7db3badb36"
   },
   "outputs": [],
   "source": [
    "dat = pd.DataFrame(final_tweets, columns =['twitter_link','text','date','likes','comments', 'username'])"
   ]
  },
  {
   "cell_type": "code",
   "execution_count": 27,
   "id": "9151789b-ddc8-4922-9d34-a9769d503573",
   "metadata": {
    "colab": {
     "base_uri": "https://localhost:8080/",
     "height": 363
    },
    "id": "9151789b-ddc8-4922-9d34-a9769d503573",
    "outputId": "b029c276-113a-40f9-9043-bb06dfbfca71"
   },
   "outputs": [
    {
     "data": {
      "text/html": [
       "<div>\n",
       "<style scoped>\n",
       "    .dataframe tbody tr th:only-of-type {\n",
       "        vertical-align: middle;\n",
       "    }\n",
       "\n",
       "    .dataframe tbody tr th {\n",
       "        vertical-align: top;\n",
       "    }\n",
       "\n",
       "    .dataframe thead th {\n",
       "        text-align: right;\n",
       "    }\n",
       "</style>\n",
       "<table border=\"1\" class=\"dataframe\">\n",
       "  <thead>\n",
       "    <tr style=\"text-align: right;\">\n",
       "      <th></th>\n",
       "      <th>twitter_link</th>\n",
       "      <th>text</th>\n",
       "      <th>date</th>\n",
       "      <th>likes</th>\n",
       "      <th>comments</th>\n",
       "      <th>username</th>\n",
       "    </tr>\n",
       "  </thead>\n",
       "  <tbody>\n",
       "  </tbody>\n",
       "</table>\n",
       "</div>"
      ],
      "text/plain": [
       "Empty DataFrame\n",
       "Columns: [twitter_link, text, date, likes, comments, username]\n",
       "Index: []"
      ]
     },
     "execution_count": 27,
     "metadata": {},
     "output_type": "execute_result"
    }
   ],
   "source": [
    "dat"
   ]
  },
  {
   "cell_type": "code",
   "execution_count": 9,
   "id": "GZ6VcT2b6HmL",
   "metadata": {
    "id": "GZ6VcT2b6HmL"
   },
   "outputs": [],
   "source": [
    "##Converting inputs in dataframe to tsv\n",
    "dat.to_csv(\"tableDetails_20.csv\", sep=';', index=False)"
   ]
  },
  {
   "cell_type": "code",
   "execution_count": null,
   "id": "acbbc66b",
   "metadata": {},
   "outputs": [],
   "source": []
  }
 ],
 "metadata": {
  "colab": {
   "provenance": []
  },
  "kernelspec": {
   "display_name": "Python 3 (ipykernel)",
   "language": "python",
   "name": "python3"
  },
  "language_info": {
   "codemirror_mode": {
    "name": "ipython",
    "version": 3
   },
   "file_extension": ".py",
   "mimetype": "text/x-python",
   "name": "python",
   "nbconvert_exporter": "python",
   "pygments_lexer": "ipython3",
   "version": "3.10.9"
  }
 },
 "nbformat": 4,
 "nbformat_minor": 5
}
